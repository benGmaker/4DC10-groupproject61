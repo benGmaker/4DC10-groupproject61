{
 "cells": [
  {
   "cell_type": "markdown",
   "metadata": {},
   "source": [
    "**To make the assignment, first run the code below to import the right libraries.**"
   ]
  },
  {
   "cell_type": "code",
   "execution_count": 82,
   "metadata": {},
   "outputs": [],
   "source": [
    "# =================================\n",
    "# Imports\n",
    "# =================================\n",
    "from PyCh import *\n",
    "from numpy import random\n",
    "from dataclasses import dataclass\n",
    "from matplotlib import pyplot\n",
    "import math\n",
    "import statistics"
   ]
  },
  {
   "cell_type": "markdown",
   "metadata": {},
   "source": [
    "<h1><center> 4DC10. Intermediate assignment</center></h1>\n",
    "<h2><center> Modeling and simulation of an autonomous vehicle storage and retrieval system</center></h2>\n",
    "    \n",
    "# 1 Subject\n",
    "\n",
    "Today's competitive environment, in which deliveries need to be faster and order sizes become smaller, forces material handling providers to progressively develop new and better solutions. A recent development in automated material-handling technology for unit load storage and retrieval is the autonomous vehicle storage and retrieval system (AVS/RS). Figure 1 shows a representation of an AVS/RS for the handling of totes, while Figure 2 illustrates a single tier (floor, level). The storage racks are single-deep and double-sided. Each storage position is of the same size and can hold one tote. Lifts are mounted at fixed locations at one end of each storage aisle. The input/output (I/O) point is located at the first tier beside each lift. Autonomous vehicles are dedicated to a storage aisle within a specific tier (so-called tier-captive configuration). The first position on either side of the storage aisle in all tiers serves as a buffer and is used to manage the transfer of totes between vehicles and lifts (see Figure 2). One buffer (out) handles totes which have been retrieved, the other one (in), located on the other side of the storage aisle, handles the totes to be stored. The presence of these buffers allows the lift and vehicle to work independently of each other. \n",
    "\n",
    "The throughput performance of AVS/RS systems can be affected by design decisions (such as number of tiers, number of aisles, and depth of aisles) as well as operational decisions (such as tote storage location and order assignment).\n",
    "\n",
    "Figure 1: AVS/RS with tier-captive configuration [1] | Figure 2: Single tier in AVS/RS [1]\n",
    "- | - \n",
    "<img src=\"figures/avs.png\" alt=\"drawing\" width=\"400\"/> | <img src=\"figures/avrs2.png\" alt=\"drawing\" width=\"400\"/>\n",
    "\n",
    "\n"
   ]
  },
  {
   "cell_type": "markdown",
   "metadata": {},
   "source": [
    "# 2 Goal\n",
    "The goal of this assignment is to study this new material handling solution by using computer simulation. This study can be restricted to the retrieval process only, i.e., the vehicles perform only single retrieval cycles. Clearly, the retrieval phase is the most critical activity from an organisational viewpoint, as it is directly related to customer service level and &mdash; in contrast to the storage phase &mdash; it cannot be postponed to a period of low workload. \n",
    "\n",
    "The objectives of this assignment can be summarized as follows:\n",
    "- Develop a simulation model of one aisle that consists of Level tiers with retrieval process to assess the system performance in terms of throughput and flow time.\n",
    "- Systematically develop the model process by process, and verify and validate each process using analytical results.\n",
    "- Investigate design trade-offs, i.e., via different layouts (number of columns and tiers), for this material handling system."
   ]
  },
  {
   "cell_type": "markdown",
   "metadata": {},
   "source": [
    "# 3 Description of the AVS/RS\n",
    "The AVS/RS is a fully automated system that can store and retrieve unit loads. The unit loads are placed in totes, a type of box, and these totes are placed in a designated aisle and column for storage. When retrieved, an autonomous vehicle places the totes in a buffer at the end of the aisle. There is one autonomous vehicle for every aisle within the tier. This is called the tier-captive configuration. From the buffer, the totes are picked by a lift that serves all tiers inone aisle, see Figure 2. In this assignment only one aisle that consists of `Level` tiers has to be modelled. Each aisle has depth number of columns of width `dv` metres and height `dl` metres.\n",
    "\n",
    "Requests for a tote arrive for each tier, asking for a tote with a random (uniformly distributed) column assigned to it. The inter arrival time of requests is exponentially distributed with mean value `arrive`.\n",
    "\n",
    "The vehicles transport totes along the aisle (one vehicle per tier). The time taken by the vehicle to process an order depends on the tote's location. The vehicle has to travel to this location, load the tote (it takes a fixed amount of time equal to `lv` seconds), then go back to the end of the aisle and, finally, unload the tote to the buffer (again this takes `lv` seconds). The speed profile of each vehicle is described as follows. First, the vehicle goes with a constant acceleration `av` *m/s$^2$* until it reaches its maximum velocity `vmaxv`, then it moves with this velocity and decelerates with a constant deceleration `av` to approach its destination point. If the tote is located too close to the end of the aisle, it is possible that the vehicle will not reach its maximum speed.\n",
    "\n",
    "The vehicles unload the totes to a location where it is picked up by the lift. At any given time only one tote per tier is allowed to occupy such a position.\n",
    "\n",
    "The lift transports the totes from every tier to the ground floor. The processing time depends on the tote's location and the fixed time to load and unload the tote (`ll` seconds for loading and `ll` seconds for unloading). The maximum speed of the lift is `vmaxl` *m/s* with a speed profile similar to that of the vehicles (constant acceleration/deceleration of `al` *m/s<sup>2</sup>*)."
   ]
  },
  {
   "cell_type": "markdown",
   "metadata": {},
   "source": [
    "# 4 Modeling of the AVS/RS\n",
    "The model consists of several processes communicating via channels, see Figure 3.\n",
    "\n",
    "| Figure 3: The processes in the model | \n",
    "- \n",
    "<img src=\"figures/avrs.png\" alt=\"drawing\" width=\"400\"/> \n",
    "\n",
    "A brief description of the processes is given below:\n",
    "- **G:** The generator models the arrival of orders for totes. There is one generator per tier.\n",
    "- **DB:** The demand buffer stores the orders to be picked up by the vehicles. The vehicle processes the orders under first-come-first-serve policy. It can always receive a tote, but it releases a tote only when the vehicle is ready to pick it up.\n",
    "- **V:** The vehicle can be modeled as a server with a variable processing time.\n",
    "- **GDV:** The process consisting of a Generator, Demand Buffer and Vehicle for one tier of the AVS/RS system.\n",
    "- **B:** The buffer stores the totes from the vehicles awaiting for a pick-up by the lift. The buffer operates under first-come-first-serve policy and has a finite capacity of `bc` totes per tier. So, every tier has a buffer location of finite capacity of `bc` totes. All those locations together form the buffer B that accommodates all the totes which are processed by the same lift. When the buffer is not empty (there is at least one tote on one of the tiers), the buffer sends information about the tier of the longest waiting tote to the lift upon request. This information is used by the lift to determine the location of the tote (the number of the tier the tote is located in). Once the lift is ready to pick it up, the tote is released to the lift. There are two types of queues in the buffer: `xs` contains all the totes to be picked up by the lift and there are Level counters `n` counting the totes from the corresponding tier.\n",
    "- **L:** The lift, similar to the process V, is modeled as a machine with a variable processing time. A lift first receives a destination tier. Then the process delays for time required for the lift to go to the tote location and pick up the tote. Then it receives the tote, and next it delays for the time required to go to the ground floor and to unload the tote. After that the lift process is ready to release the tote to the Exit process.\n",
    "- **E:** In the exit process all the data related to each tote are collected. This process calculates the average throughput and the average flow-time. The number of totes to be processed by the AVS/RS during one simulation run is determined by the constant `Number_of_orders`."
   ]
  },
  {
   "cell_type": "markdown",
   "metadata": {},
   "source": [
    "# 5 Remark concerning report\n",
    "All questions must be answered in this file (with the exeception of the lot-time diagrams, which must be attached as seperate files). Avoid unnecessary long explanations, however answers to analytical questions without an argument will result in no points. You can add extra Cells to add code or text (markdown) to the notebook. Markdown (text) boxes support Latex for writing formulas, e.g. `$ y = a \\cdot x^2 $` turns into $ y = a \\cdot x^2 $. More info: [Markdown](https://personal.math.ubc.ca/~pwalls/math-python/jupyter/markdown/) and [Latex](https://personal.math.ubc.ca/~pwalls/math-python/jupyter/latex/).\n",
    "\n",
    "Both the notebook, and a PDF of the notebook must be submitted. To download the notebook file: click `File` > `Download as` > `Notebook (.ipynb)`. To download a PDF: press `Control + P` and `Save as PDF` (do not use the Jupyter Print options, as they will print the entire output of your simulations)."
   ]
  },
  {
   "cell_type": "markdown",
   "metadata": {},
   "source": [
    "# 6 Assignment\n",
    "When making a SimPy specification, one does not build an entire model and then starts debugging. A model is build step by step. During each step proper functionality is checked. We therefore model one process at a time, and connect the process with a Generator and/or Exit process to test proper functionality. In order to test proper functionality we first use analytical methods to determine the expected outcome. Then we run simulations to verify if these outcomes are indeed obtained. If that is the case, we can be more convinced that the process has been modeled correctly.\n"
   ]
  },
  {
   "cell_type": "markdown",
   "metadata": {},
   "source": [
    "## 6.1 Exercise 1: Generator (5 points)\n",
    "So the first step is to write a proper generator for a tier. To that end, the first model we build consists of (only) a Generator process and an Exit process collecting the totes generated by the Generator. The inter arrival time of requests is exponentially distributed with mean `arrive`. The requested tote should be retrieved from a random (uniformly distributed) column, where there are `depth` columns in total."
   ]
  },
  {
   "cell_type": "markdown",
   "metadata": {},
   "source": [
    "a. Determine (analytically) the throughput and flow time that should result from your model with only the generator process and the exit process."
   ]
  },
  {
   "cell_type": "markdown",
   "metadata": {},
   "source": [
    "Answer: \n",
    "\n",
    "The throughput is equal to the rate of arrival which is the inverse of the mean arrival time $r_a = 1/t_a = $ `1/arrive`\\\n",
    "Flow time is equal to zero as soon as the tote is created it goes to the exit\n",
    "\n",
    "$\\delta = 0$ \\\n",
    "$r_a = 1/t_a = \\frac{1}{70}$ "
   ]
  },
  {
   "cell_type": "markdown",
   "metadata": {},
   "source": [
    "b. Complete the simulation code from the following template:"
   ]
  },
  {
   "cell_type": "code",
   "execution_count": 78,
   "metadata": {},
   "outputs": [
    {
     "name": "stdout",
     "output_type": "stream",
     "text": [
      "  Mincolumn = 1, Maxcolumn = 55\n",
      "  Mean throughput = 0.014095  Mean flowtime = 0.0000\n",
      "simulation has ended\n"
     ]
    }
   ],
   "source": [
    "# =================================\n",
    "# Global\n",
    "# =================================\n",
    "arrive = 70.0             # inter arrival time of requests\n",
    "depth  = 55               # the number of columns\n",
    "number_of_orders = 10000  # the number of orders to process\n",
    "\n",
    "meantroughput = float()\n",
    "meanflowtime = float()\n",
    "\n",
    "# =================================\n",
    "# Tote\n",
    "# =================================\n",
    "@dataclass\n",
    "class Tote:\n",
    "    entrytime: float = 0.0\n",
    "    column: int = 0\n",
    "\n",
    "# =================================\n",
    "# Generator\n",
    "# =================================\n",
    "@process\n",
    "def Generator(env, c_out):\n",
    "    #.....\n",
    "    #.....\n",
    "    x = Tote()\n",
    "    while True:\n",
    "        x.entrytime = env.now\n",
    "        x.column = random.randint(1, depth + 1) \n",
    "        yield env.execute(c_out.send(x))\n",
    "        delay = random.exponential(arrive)\n",
    "        yield env.timeout(delay)\n",
    "\n",
    "\n",
    "# =================================\n",
    "# Exit\n",
    "# =================================\n",
    "\n",
    "\n",
    "@process\n",
    "def Exit(env, c_in):\n",
    "    global meantroughput, meanflowtime\n",
    "    mphi = 0\n",
    "    \n",
    "    mincolumn = inf #using infinity as starting value\n",
    "    maxcolumn = -inf #using negative infinity as starting value\n",
    "    for i in range(1, number_of_orders + 1):\n",
    "        x = yield env.execute(c_in.receive())\n",
    "        mphi = (i - 1) / i * mphi + (env.now - x.entrytime) / i\n",
    "        #print(f\"tote = {i:6d};\"  \n",
    "        #      f\"  Entrytime = {x.entrytime: 10.4f};\" \n",
    "        #      f\"  Column = {x.column:2d};\"\n",
    "        #      f\"  Mean throughput =\" + (f\"{i / env.now:8.6f}\"   if   env.now   else f\"{'N.A.':>8s}\") +\n",
    "        #      f\"  Mean flowtime = {mphi:6.4f}\" \n",
    "        #)\n",
    "        #code to check the min an max column values\n",
    "        if x.column > maxcolumn: \n",
    "            maxcolumn = x.column\n",
    "        elif x.column < mincolumn:\n",
    "            mincolumn = x.column\n",
    "    meantroughput = i / env.now #setting global variables equal to the mean troughput and flow time\n",
    "    meanflowtime = mphi\n",
    "    print(f\"  Mincolumn = {mincolumn}, Maxcolumn = {maxcolumn}\") #printing out the mincolum and max column\n",
    "    print(\n",
    "        f\"  Mean throughput = \" + (f\"{i / env.now:8.6f}\"   if   env.now   else f\"{'N.A.':>8s}\") +\n",
    "        f\"  Mean flowtime = {mphi:6.4f}\" \n",
    "    ) #only print out the final mean throughput and flow time\n",
    "\n",
    "# =================================\n",
    "# Model\n",
    "# =================================\n",
    "def model():\n",
    "    env = Environment()\n",
    "    a = Channel(env)\n",
    "    G = Generator(env, a)\n",
    "    E = Exit(env, a)\n",
    "    env.run(until=E)\n",
    "    print (\"simulation has ended\")\n",
    "\n",
    "# =================================\n",
    "# Main\n",
    "# =================================\n",
    "model()"
   ]
  },
  {
   "cell_type": "code",
   "execution_count": 57,
   "metadata": {},
   "outputs": [
    {
     "name": "stdout",
     "output_type": "stream",
     "text": [
      "  Mincolumn = 1, Maxcolumn = 55\n",
      "  Mean throughput = 0.014157  Mean flowtime = 0.0000\n",
      "simulation has ended\n"
     ]
    }
   ],
   "source": []
  },
  {
   "cell_type": "markdown",
   "metadata": {},
   "source": [
    "c. Confirm that your simulations produce the correct throughput and flow time. Also determine the minimal and maximal column returned by your simulation."
   ]
  },
  {
   "cell_type": "markdown",
   "metadata": {},
   "source": [
    "From the final mean throughput and mean flowtimes it can be concluded that they are the same as from the analytical solution.\n",
    "\n",
    "As can be seen from the extra code added the minimum and maximum values of the column is 1 and 55 respectively. Which assuming that every column occurs in between is 55 spots.\n"
   ]
  },
  {
   "cell_type": "code",
   "execution_count": 6,
   "metadata": {},
   "outputs": [
    {
     "data": {
      "text/plain": [
       "0.014285714285714285"
      ]
     },
     "execution_count": 6,
     "metadata": {},
     "output_type": "execute_result"
    }
   ],
   "source": [
    "1/70 "
   ]
  },
  {
   "cell_type": "markdown",
   "metadata": {},
   "source": [
    "Answer: ...\n",
    "\n",
    "\n"
   ]
  },
  {
   "cell_type": "markdown",
   "metadata": {},
   "source": [
    "Run your simulation at least 10 times. What is the range of outcomes for the mean throughput? Determine (roughly, by trial and error) the number of orders required to get good estimates for the throughput (first three non-zero digits are correct)."
   ]
  },
  {
   "cell_type": "code",
   "execution_count": 86,
   "metadata": {},
   "outputs": [
    {
     "name": "stdout",
     "output_type": "stream",
     "text": [
      "  Mincolumn = 1, Maxcolumn = 55\n",
      "  Mean throughput = 0.014209  Mean flowtime = 0.0000\n",
      "simulation has ended\n",
      "  Mincolumn = 1, Maxcolumn = 55\n",
      "  Mean throughput = 0.014665  Mean flowtime = 0.0000\n",
      "simulation has ended\n",
      "  Mincolumn = 1, Maxcolumn = 55\n",
      "  Mean throughput = 0.014152  Mean flowtime = 0.0000\n",
      "simulation has ended\n",
      "  Mincolumn = 1, Maxcolumn = 55\n",
      "  Mean throughput = 0.014169  Mean flowtime = 0.0000\n",
      "simulation has ended\n",
      "  Mincolumn = 1, Maxcolumn = 55\n",
      "  Mean throughput = 0.014330  Mean flowtime = 0.0000\n",
      "simulation has ended\n",
      "  Mincolumn = 1, Maxcolumn = 55\n",
      "  Mean throughput = 0.014182  Mean flowtime = 0.0000\n",
      "simulation has ended\n",
      "  Mincolumn = 1, Maxcolumn = 55\n",
      "  Mean throughput = 0.014263  Mean flowtime = 0.0000\n",
      "simulation has ended\n",
      "  Mincolumn = 1, Maxcolumn = 55\n",
      "  Mean throughput = 0.014392  Mean flowtime = 0.0000\n",
      "simulation has ended\n",
      "  Mincolumn = 1, Maxcolumn = 55\n",
      "  Mean throughput = 0.014513  Mean flowtime = 0.0000\n",
      "simulation has ended\n",
      "  Mincolumn = 1, Maxcolumn = 55\n",
      "  Mean throughput = 0.014329  Mean flowtime = 0.0000\n",
      "simulation has ended\n",
      "0.014151553644623411\n",
      "0.014665250805929486\n",
      "0.014320448883170293\n",
      "0.00016587112051604237\n"
     ]
    }
   ],
   "source": [
    "troughputes = list()\n",
    "for i in range(10): \n",
    "    model()\n",
    "    troughputes.append(meantroughput)\n",
    "    \n",
    "\n",
    "print(min(troughputes))\n",
    "print(max(troughputes))\n",
    "print(statistics.mean(troughputes))\n",
    "print(statistics.stdev(troughputes))"
   ]
  },
  {
   "cell_type": "markdown",
   "metadata": {},
   "source": [
    "## 6.2 Exercise 2: Demand Buffer (5 points)\n",
    "Next, we include the Demand buffer which is modelled as a standard FIFO buffer with infinite capacity.\n",
    "\n",
    "a. Determine (analytically) the throughput and flow time that should result from your model with only the generator process, demand buffer, and the exit process."
   ]
  },
  {
   "cell_type": "markdown",
   "metadata": {},
   "source": [
    "Answer: \n",
    "There is no bottleneck between the input and output of the buffer. This results in the fact that as soon as a tote is generated it's imediatly placed in the buffer and then also imediatly pushed in to the exit, resulting in a flow time of 0 seconds.\n",
    "\n",
    "Again as there is no bottleneck in the buffer thus the throughput is also uneffected and still equal to rate at which totes are generated: $\\delta = \\frac{1}{70}$. However in reality it takes some computation time and therefore a slight decrease in troughput will be noticed when compared to the model without a buffer."
   ]
  },
  {
   "cell_type": "markdown",
   "metadata": {},
   "source": [
    "b. Complete the simulation code in the template below.\n",
    "\n",
    "Note: The previously defined variables and functions remain unchanged, only the Demand Buffer is added, and the main code is changed."
   ]
  },
  {
   "cell_type": "code",
   "execution_count": 46,
   "metadata": {},
   "outputs": [
    {
     "name": "stdout",
     "output_type": "stream",
     "text": [
      "  Mincolumn = 1, Maxcolumn = 55\n",
      "  Mean throughput = 0.014520  Mean flowtime = 0.0000\n",
      "simulation has ended\n"
     ]
    }
   ],
   "source": [
    "# =================================\n",
    "# Demand Buffer\n",
    "# =================================\n",
    "@process\n",
    "def Demand_Buffer(env, c_in, c_out):\n",
    "    xs = [] # list of totes\n",
    "    while True:\n",
    "        sending = c_out.send(xs[0]) if len(xs)>0 else None\n",
    "        receiving = c_in.receive()\n",
    "        x = yield env.select(sending, receiving)\n",
    "        if selected(receiving):\n",
    "            xs = xs + [x]\n",
    "        if selected(sending):\n",
    "            xs = xs[1:]\n",
    "# =================================\n",
    "# Model\n",
    "# =================================\n",
    "def model():\n",
    "    env = Environment()\n",
    "    a = Channel(env)\n",
    "    b = Channel(env)\n",
    "    G = Generator(env, a)\n",
    "    D = Demand_Buffer(env, a, b)\n",
    "    E = Exit(env, b)\n",
    "    env.run(until=E)\n",
    "    print (\"simulation has ended\")\n",
    "    \n",
    "# =================================\n",
    "# Main\n",
    "# =================================\n",
    "model()"
   ]
  },
  {
   "cell_type": "markdown",
   "metadata": {},
   "source": [
    "c. Confirm that your simulations produce the correct throughput and flow time."
   ]
  },
  {
   "cell_type": "markdown",
   "metadata": {},
   "source": [
    "Answer: ...\n",
    "\n"
   ]
  },
  {
   "cell_type": "markdown",
   "metadata": {},
   "source": [
    "## 6.3 Exercise 3: Vehicle as machine (5 points)\n",
    "Next, we include the Vehicle which as a first attempt is modelled as a standard machine with a deterministic processing time of 40.0 seconds\n",
    "\n",
    "a. Determine (analytically) the throughput and flow time that should result from your model with only the generator process, demand buffer, vehicle and the exit process."
   ]
  },
  {
   "cell_type": "markdown",
   "metadata": {},
   "source": [
    "Answer: \\\n",
    "This is the first part that adds a delay in the system. This delay is constant and the only delay there is. Therefore it the mean flow time is equal to the processing time. Thus the the mean flow time is: $\\varphi = 40$ seconds\n",
    "\n",
    "Next the utalization of the machine is:\\\n",
    "$u = r_a * t_e = \\frac{40}{60} = \\frac{2}{3}$\n",
    "\n",
    "As the utalization is less than 1, the machine can keep up with the arrival flow. This means that the output rate is eqaul to the input rate and for this case where this is the only machine it means that the throughput is still equal to the arrival rate: $r_d = \\frac{1}{70}$ If the utalization would be greater than 1 the rate would be equal the the processing rate of the machine: $r_d = \\frac{1}{t_0}$\n"
   ]
  },
  {
   "cell_type": "markdown",
   "metadata": {},
   "source": [
    "b. Complete the simulation code in the template below.\n",
    "\n",
    "Note: The previously defined variables and functions remain unchanged, only the Vehicle is added, and the main code is changed."
   ]
  },
  {
   "cell_type": "code",
   "execution_count": 89,
   "metadata": {},
   "outputs": [
    {
     "name": "stdout",
     "output_type": "stream",
     "text": [
      "  Mincolumn = 1, Maxcolumn = 55\n",
      "  Mean throughput = 0.014374  Mean flowtime = 39.4354\n",
      "simulation has ended\n"
     ]
    }
   ],
   "source": [
    "# =================================\n",
    "# Vehicle\n",
    "# =================================\n",
    "te_Vehicle = 40 #seconds\n",
    "\n",
    "@process\n",
    "def Vehicle(env, c_in, c_out):\n",
    "    while True:\n",
    "        receiving = c_in.receive() \n",
    "        yield env.execute(receiving) #waiting until something is received\n",
    "        yield env.timeout(te_Vehicle) #waiting for the process time\n",
    "        sending = c_out.send(receiving.entity) #sending out the received entity \n",
    "        yield env.execute(sending) \n",
    "    #.....\n",
    "        \n",
    "# =================================\n",
    "# Model\n",
    "# =================================\n",
    "def model():\n",
    "    env = Environment()\n",
    "    a = Channel(env)\n",
    "    b = Channel(env)\n",
    "    c = Channel(env)\n",
    "    G = Generator(env, a)\n",
    "    D = Demand_Buffer(env, a, b)\n",
    "    V = Vehicle(env, b, c)\n",
    "    E = Exit(env, c)\n",
    "    env.run(until=E)\n",
    "    print (\"simulation has ended\")\n",
    "\n",
    "# =================================\n",
    "# Main\n",
    "# =================================\n",
    "model()"
   ]
  },
  {
   "cell_type": "markdown",
   "metadata": {},
   "source": [
    "c. Confirm that your simulations produce the correct throughput and flow time."
   ]
  },
  {
   "cell_type": "markdown",
   "metadata": {},
   "source": [
    "Answer: \n",
    "\n",
    "Running the model with the proccesing time set equal to 40: `te_Vehicle = 40` results in the expected throughput and mean flow time as described before.\n",
    "\n",
    "Running the model with the proccessing time set equal to a value higher than the mean interarival time result in a decrease of the mean throughput. If we set the proccesing time equal to for example 100 it results in an mean throughput of 0.01  which is as to be expected from the analytical solution.\n",
    "\n"
   ]
  },
  {
   "cell_type": "markdown",
   "metadata": {},
   "source": [
    "d. Run your simulation at least 10 times. What is the range of outcomes for the mean throughput? Determine (roughly/ by trial and error) the number of orders required to get good estimates for the flow time (first three non-zero digits are correct)."
   ]
  },
  {
   "cell_type": "markdown",
   "metadata": {},
   "source": [
    "Answer: ...\n",
    "\n"
   ]
  },
  {
   "cell_type": "markdown",
   "metadata": {},
   "source": [
    "## 6.4 Exercise 4: Vehicle accurately modelled (15 points)\n",
    "Assume that a vehicle starts from the buffer. If it has to go to column $i \\in \\{0, depth - 1\\}$, it needs to drive a distance $dv \\cdot (i + 1)$, pick up the tote, drive back, and deliver the tote to the buffer. For driving the required distance, the vehicle first goes with a constant acceleration `av` *m/s$^2$* until it reaches its maximum velocity `vmaxv`, then it moves with this velocity and decelerates with a constant deceleration `av` to approach its destination point. If the tote is located too close to the end of the aisle, it is possible that the vehicle will not reach its maximum speed. \n",
    "\n",
    "a. From this information, (analytically) determine the time (in seconds) it takes a vehicle to drive a given distance of x meters. To that end, first determine from the acceleration profile the travelled distance as function of time. From that you can determine the time required to travel a given distance."
   ]
  },
  {
   "cell_type": "markdown",
   "metadata": {},
   "source": [
    "Answer: ...\n",
    "\n"
   ]
  },
  {
   "cell_type": "markdown",
   "metadata": {},
   "source": [
    "b. Next, if loading and unloading a tote both take `lv` seconds, determine (analytically) the time it takes a vehicle, starting from the buffer, to pick up a tote from column $i \\in \\{0, depth\\}$ and deliver it to the buffer."
   ]
  },
  {
   "cell_type": "markdown",
   "metadata": {},
   "source": [
    "Answer: ...\n",
    "\n"
   ]
  },
  {
   "cell_type": "markdown",
   "metadata": {},
   "source": [
    "c. Determine (analytically) the mean and variance of this total travel time for a random (uniformly distributed) column."
   ]
  },
  {
   "cell_type": "markdown",
   "metadata": {},
   "source": [
    "Answer: ...\n",
    "\n"
   ]
  },
  {
   "cell_type": "markdown",
   "metadata": {},
   "source": [
    "d. Determine (analytically) the throughput and flow time that should result from your model with only the generator process, demand buffer, vehicle and the exit process."
   ]
  },
  {
   "cell_type": "markdown",
   "metadata": {},
   "source": [
    "Answer: ...\n",
    "\n"
   ]
  },
  {
   "cell_type": "markdown",
   "metadata": {},
   "source": [
    "e. Complete the simulation code in the template below, incorporating the actual time a vehicle requires for picking up a tote and delivering it to the buffer.\n",
    "\n",
    "Note: the previously defined function processes remain unchanged, only the Vehicle needs to be redefined."
   ]
  },
  {
   "cell_type": "code",
   "execution_count": null,
   "metadata": {},
   "outputs": [],
   "source": [
    "# =================================\n",
    "# Global vehicle variables\n",
    "# =================================\n",
    "lv = 3.0                  # time to load/unload the vehicle\n",
    "dv = 0.5                  # unit width clearance\n",
    "vmaxv = 1.5              # maximum velocity of the vehicle\n",
    "av = 1.0                  # acceleration/deceleration of the vehicle\n",
    "\n",
    "# =================================\n",
    "# Vehicle definition\n",
    "# =================================\n",
    "@process\n",
    "def Vehicle(env, c_in, c_out):\n",
    "    #.....\n",
    "\n",
    "# =================================\n",
    "# Main\n",
    "# =================================\n",
    "def model():\n",
    "    env = Environment()\n",
    "    a = Channel(env)\n",
    "    b = Channel(env)\n",
    "    c = Channel(env)\n",
    "    G = Generator(env, a)\n",
    "    D = Demand_Buffer(env, a,b)\n",
    "    V = Vehicle(env, b,c)\n",
    "    E = Exit(env, c)\n",
    "    env.run(until=E)\n",
    "    print (\"simulation has ended\")\n",
    "\n",
    "# =================================\n",
    "# Main\n",
    "# =================================\n",
    "model()\n"
   ]
  },
  {
   "cell_type": "markdown",
   "metadata": {},
   "source": [
    "f. Confirm that your simulations produce the correct throughput and flow time."
   ]
  },
  {
   "cell_type": "markdown",
   "metadata": {},
   "source": [
    "Answer: ...\n",
    "\n"
   ]
  },
  {
   "cell_type": "markdown",
   "metadata": {},
   "source": [
    "g.  Run your simulation at least 10 times. What is the range of outcomes for the mean throughput? Determine (roughly, by trial and error) the number of orders required to get good estimates for the flow time (first three non-zero digits are correct)."
   ]
  },
  {
   "cell_type": "markdown",
   "metadata": {},
   "source": [
    "Answer: ...\n",
    "\n"
   ]
  },
  {
   "cell_type": "markdown",
   "metadata": {},
   "source": [
    "## 6.5 Exercise 5: Lift as two stage machine (5 points)\n",
    "In the previous exercises we focussed on modeling a tier. In exercises 5-8 we focus on modeling the Buffer and Lift, starting with the Lift. We model the Lift as a machine, which repeatedly does the following: request a destination tier, move to the desired tier, receive a tote (first delay for `ll`, then communicate), move to the ground floor, deliver the tote (first delay for `ll`, then communicate). In this exercise we assume that moving to the desired tier takes 23.0 seconds, receiving the tote takes 2.0 seconds, moving to the ground floor again takes 23.0 seconds, and delivering the tote also takes 2.0 seconds. Note that, in this case, this implies that the tote should leave the Generator and enter the Lift 25.0 seconds after the Lift has received the destination tier. All of these times are assumed to be deterministic.\n",
    "\n",
    "a. Assume that after 1.0 second the first tote arrives. Subsequently a tote arrives respectively 10.0, 100.0, and 100.0 seconds after the completion of sending its predecessor to the buffer. Make a lot-time-diagram indicating how long a newly generated job spends in the Generator, and spends in the Lift."
   ]
  },
  {
   "cell_type": "markdown",
   "metadata": {},
   "source": [
    "Answer: attach figure"
   ]
  },
  {
   "cell_type": "markdown",
   "metadata": {},
   "source": [
    "b. Complete the simulation code in the template below, incorporating the actual time a vehicle requires for picking up a tote and delivering it to the buffer."
   ]
  },
  {
   "cell_type": "code",
   "execution_count": null,
   "metadata": {},
   "outputs": [],
   "source": [
    "# =================================\n",
    "# Tote definition\n",
    "# =================================\n",
    "@dataclass\n",
    "class Tote:\n",
    "    entrytime: float = 0\n",
    "    tier: int = 0\n",
    "\n",
    "# =================================\n",
    "# Global Lift variables\n",
    "# =================================\n",
    "ll = 2.0  # time to load/unload the lift\n",
    "\n",
    "\n",
    "# =================================\n",
    "# Generator\n",
    "# =================================\n",
    "@process\n",
    "def Generator(env, c_out, c_lift):\n",
    "    delays=[1.0, 10.0, 100.0, 100.0]\n",
    "    while len(delays)>0:\n",
    "        yield env.timeout(delays[0])\n",
    "        delays = delays[1:]\n",
    "        yield env.execute(c_lift.send(1))\n",
    "        print(f\"Generator: Informed Lift to go to tier 1 at time {env.now:3.1f}\");\n",
    "        x = Tote(entrytime = env.now, tier = 1)\n",
    "        yield env.execute(c_out.send(x))\n",
    "        print(f\"Generator: Tote has completely left the Generator and entered\"\n",
    "              f\"the Lift at time {env.now:3.1f}\")\n",
    "    yield env.timeout(100.0)\n",
    "\n",
    "\n",
    "# =================================\n",
    "# Lift\n",
    "# =================================\n",
    "@process\n",
    "def Lift(env, c_in, c_lift, c_out):\n",
    "    #.....\n",
    "\n",
    "    \n",
    "# =================================\n",
    "# Exit \n",
    "# =================================\n",
    "@process\n",
    "def Exit(env, c_in):\n",
    "    while True:\n",
    "        x = yield env.execute(c_in.receive())\n",
    "        print(f\"Exit: Tote has completely left the Lift and has been received \"\n",
    "              f\"by the Exit at time {env.now:3.1f}\");\n",
    "\n",
    "# =================================\n",
    "# Model\n",
    "# =================================\n",
    "def model():\n",
    "    env = Environment()\n",
    "    a = Channel(env)  # for sending lots\n",
    "    b = Channel(env)  # lift tier\n",
    "    c = Channel(env)  # for sending lots\n",
    "    G = Generator(env, a, b)\n",
    "    L = Lift(env, a, b, c)\n",
    "    E = Exit(env, c)\n",
    "    env.run()\n",
    "    print (\"simulation has ended\")\n",
    "\n",
    "# =================================\n",
    "# Main\n",
    "# =================================\n",
    "model()"
   ]
  },
  {
   "cell_type": "markdown",
   "metadata": {},
   "source": [
    "c. Confirm that your simulations produce the correct results, i.e., in correspondence with your lot-time-diagram."
   ]
  },
  {
   "cell_type": "markdown",
   "metadata": {},
   "source": [
    "Answer: ...\n",
    "\n"
   ]
  },
  {
   "cell_type": "markdown",
   "metadata": {},
   "source": [
    "## 6.6 Exercise 6: Buffer with only one tier (5 points)\n",
    "In case we have only one tier, we could use a standard model for a finite buffer. However, keeping in mind that we need to model in the next exercise Level finite buffers in parallel where totes are served at a first-come-first-serve basis, we model the finite buffer slightly differently. We have a counter `n` which counts the number of jobs in the buffer, and we keep a list `xs` of totes that have arrived to the buffer. As long as the buffer contains less than `bc` totes, the buffer can receive jobs. Furthermore, if the buffer contains totes, it is possible to receive a request from the Lift (asking for which tier to move to, which is always 0 in this case). Additionally, if the buffer contains totes it is possible to send the first tote of the list `xs` to the lift.\n",
    "\n",
    "a. Assume that after 1.0 second the first tote arrives. Subsequently, a tote arrives respectively 10.0, 100.0, and 100.0 seconds after the completion of sending its predecessor to the buffer. Make a lot-time-diagram indicating how long a newly generated job spends in the Generator, in the Buffer, and spends in the Lift."
   ]
  },
  {
   "cell_type": "markdown",
   "metadata": {},
   "source": [
    "Answer: attach figure"
   ]
  },
  {
   "cell_type": "markdown",
   "metadata": {},
   "source": [
    " b. Complete the simulation code in the template below, only the Generator and Buffer need to be redefined."
   ]
  },
  {
   "cell_type": "code",
   "execution_count": null,
   "metadata": {},
   "outputs": [],
   "source": [
    "# =================================\n",
    "# Global Lift variables\n",
    "# =================================\n",
    "ll = 2.0  # time to load/unload the lift\n",
    "bc = 1    # buffer capacity\n",
    "\n",
    "# =================================\n",
    "# Generator\n",
    "# =================================\n",
    "@process\n",
    "def Generator(env, c_out):\n",
    "    delays=[1.0, 10.0, 100.0, 100.0]\n",
    "    while len(delays)>0:\n",
    "        yield env.timeout(delays[0])\n",
    "        delays = delays[1:]\n",
    "        x = Tote(entrytime = env.now, tier = 0)\n",
    "        yield env.execute(c_out.send(x))\n",
    "        print(f\"Generator: sending tote to Buffer at time {env.now:3.1f}\")\n",
    "    yield env.timeout(100.0)\n",
    "\n",
    "# =================================\n",
    "# Buffer\n",
    "# =================================\n",
    "@process\n",
    "def Buffer(env, c_in, c_out, c_lift):\n",
    "    xs = [] # list of jobs\n",
    "    n = 0\n",
    "    while True:\n",
    "        receiving = c_in.receive() if n < bc else None\n",
    "        call_lift = c_lift.send(xs[0].tier) if len(xs) > 0 else None\n",
    "        sending   = c_out.send(xs[0]) if len(xs)>0 else None\n",
    "        \n",
    "        yield env.select(receiving, call_lift, sending)\n",
    "\n",
    "        if selected(receiving):\n",
    "            x = receiving.entity\n",
    "            xs = xs + [x]\n",
    "            n = n+1\n",
    "        \n",
    "        if selected(call_lift):\n",
    "            pass\n",
    "        \n",
    "        if selected(sending):\n",
    "            #.....\n",
    "            \n",
    "# =================================\n",
    "# Model\n",
    "# =================================\n",
    "def model():\n",
    "    env = Environment()\n",
    "    a = Channel(env)  # for sending lots\n",
    "    b = Channel(env)  # for sending lots\n",
    "    c = Channel(env)  # for calling the lift\n",
    "    d = Channel(env)  # for sending lots\n",
    "\n",
    "    G = Generator(env, a)\n",
    "    B = Buffer(env, a, b, c)\n",
    "    L = Lift(env, b, c, d)\n",
    "    E = Exit(env, d)\n",
    "    env.run()\n",
    "    print (\"simulation has ended\")\n",
    "\n",
    "# =================================\n",
    "# Main\n",
    "# =================================\n",
    "model()"
   ]
  },
  {
   "cell_type": "markdown",
   "metadata": {},
   "source": [
    "c. Confirm that your simulations produce the correct results, i.e., in correspondence with your lot-time-diagram"
   ]
  },
  {
   "cell_type": "markdown",
   "metadata": {},
   "source": [
    "Answer: ...\n",
    "\n"
   ]
  },
  {
   "cell_type": "markdown",
   "metadata": {},
   "source": [
    "## Exercise 7: Buffer with multiple tiers (5 points)\n",
    "We extend the buffer from the previous exercise to `Level` parallel finite buffers of size `bc` which are modelled as a list of `Level` counters. For this list we use the variable `n`. We keep a common list `xs` of totes that have arrived to all buffers. This list is used to determine which tote should be picked up first by the Lift. For each of the tiers it holds that if the buffer of that tier is not full yet, a tote can be received. Furthermore, if the buffer contains totes, it is possible to receive a request from the Lift asking for the tier to move to. Additionally, if the buffer contains totes it is possible to send the first tote of the list `xs` to the lift."
   ]
  },
  {
   "cell_type": "markdown",
   "metadata": {},
   "source": [
    "a. Consider two tiers, and assume that after `Tier` seconds the first tote arrives (for two tiers: after 0.0 for tier 0 and\n",
    "after 1.0 for tier 1). Subsequently a tote arrives respectively 10.0, 100.0, and 100.0 seconds after the completion\n",
    "of sending its predecessor to the buffer. Make a lot-time-diagram indicating how long a newly generated job\n",
    "spends in which Generator, in the Buffer, and spends in the Lift."
   ]
  },
  {
   "cell_type": "markdown",
   "metadata": {},
   "source": [
    "Answer: attach figure"
   ]
  },
  {
   "cell_type": "markdown",
   "metadata": {},
   "source": [
    "b. Complete the simulation code in the template below."
   ]
  },
  {
   "cell_type": "code",
   "execution_count": null,
   "metadata": {},
   "outputs": [],
   "source": [
    "# =================================\n",
    "# Global variables\n",
    "# =================================\n",
    "ll = 2.0  # time to load/unload the lift\n",
    "bc = 1    # buffer capacity\n",
    "Level = 2 # the number of tiers\n",
    "\n",
    "# =================================\n",
    "# Generator\n",
    "# =================================\n",
    "@process\n",
    "def Generator(env, c_out, level):\n",
    "    delays=[1.0*level, 10.0, 100.0, 100.0]\n",
    "    while len(delays)>0:\n",
    "        yield env.timeout(delays[0])\n",
    "        delays = delays[1:]\n",
    "        x = Tote(entrytime = env.now, tier = level)\n",
    "        yield env.execute(c_out.send(x))\n",
    "        print(f\"Generator {level:d}: Sending tote to Buffer completed at \"\n",
    "              f\"time {env.now:3.1f}\")\n",
    "    yield env.timeout(100.0)\n",
    "    \n",
    "# =================================\n",
    "# Buffer\n",
    "# =================================\n",
    "@process\n",
    "def Buffer(env, c_in, c_out, c_lift):\n",
    "    xs = []\n",
    "    n = [0] * Level\n",
    "    while True:\n",
    "        receiving = [c_in[Tier].receive() if n[Tier] < bc else None for Tier in range(Level)]\n",
    "        call_lift = c_lift.send(xs[0].tier) if len(xs) > 0 else None\n",
    "        sending = c_out.send(xs[0]) if len(xs) > 0 else None\n",
    "        communications = receiving + [call_lift] + [sending]\n",
    "\n",
    "        yield env.select(*communications)\n",
    "        \n",
    "        for Tier in range(Level):\n",
    "            if selected(receiving[Tier]):\n",
    "                x = receiving[Tier].entity\n",
    "                xs = xs + [x]\n",
    "                n[Tier] = n[Tier] + 1\n",
    "        \n",
    "        if selected(call_lift):\n",
    "            pass\n",
    "            \n",
    "        if selected(sending):\n",
    "            #.....\n",
    "            \n",
    "# =================================\n",
    "# Model\n",
    "# =================================\n",
    "def model():\n",
    "    env = Environment()\n",
    "    a = [Channel(env) for tier in range(Level)] # a channel for each tier (sending lots)\n",
    "    b = Channel(env)  # for sending lots\n",
    "    c = Channel(env)  # for calling the lift\n",
    "    d = Channel(env)  # for sending lots\n",
    "    Gs = [Generator(env, a[tier], tier) for tier in range(Level)] \n",
    "    B = Buffer(env, a, b, c)\n",
    "    L = Lift(env, b, c, d)\n",
    "    E = Exit(env, d)\n",
    "    env.run(until=1000000)\n",
    "    print (\"simulation has ended\")\n",
    "\n",
    "# =================================\n",
    "# Main\n",
    "# =================================\n",
    "model()"
   ]
  },
  {
   "cell_type": "markdown",
   "metadata": {},
   "source": [
    "c. Confirm that your simulations produce the correct results, i.e., in correspondence with your lot-time-diagram"
   ]
  },
  {
   "cell_type": "markdown",
   "metadata": {},
   "source": [
    "Answer: ...\n",
    "\n"
   ]
  },
  {
   "cell_type": "markdown",
   "metadata": {},
   "source": [
    "## Exercise 8: Lift accurately modelled (5 points)\n",
    "\n",
    "Assume that the Lift starts from the ground floor. If it has to go to level $i \\in \\{0, Level - 1\\}$, it needs to travel a\n",
    "distance $dl \\cdot (i + 1)$, pick up the tote, travel back, and deliver the tote at the ground floor. For traveling the required\n",
    "distance, the vehicle first goes with a constant acceleration `al` *m/s$^2$* until it reaches its maximum velocity `vmaxl`, then\n",
    "it moves with this velocity and decelerates with a constant deceleration `al` to approach its destination tier. If the tier\n",
    "is located too close to the ground floor, it is possible that the Lift will not reach its maximum speed."
   ]
  },
  {
   "cell_type": "markdown",
   "metadata": {},
   "source": [
    "a. From this information, (analytically) determine the time (in seconds) it takes the Lift to a given tier."
   ]
  },
  {
   "cell_type": "markdown",
   "metadata": {},
   "source": [
    "Answer: ...\n",
    "\n"
   ]
  },
  {
   "cell_type": "markdown",
   "metadata": {},
   "source": [
    "b. Next, if loading and unloading a tote both take `ll` seconds, determine (analytically) the time it takes the Lift to pick up a tote from tier $i \\in \\{0, depth - 1\\}$ and deliver it to the buffer."
   ]
  },
  {
   "cell_type": "markdown",
   "metadata": {},
   "source": [
    "Answer: ...\n",
    "\n"
   ]
  },
  {
   "cell_type": "markdown",
   "metadata": {},
   "source": [
    "c. Consider two tiers, and assume that after Tier seconds the first tote arrives (for two tiers: after 0.0 for tier 0 and after 1.0 for tier 1). Subsequently a tote arrives respectively 10.0, 100.0, and 100.0 seconds after the completion of sending its predecessor to the buffer. Make a lot-time-diagram indicating how long a newly generated job spends in which Generator, in the Buffer, and spends in the Lift."
   ]
  },
  {
   "cell_type": "markdown",
   "metadata": {},
   "source": [
    "Answer: attach figure"
   ]
  },
  {
   "cell_type": "markdown",
   "metadata": {},
   "source": [
    "d. Complete the simulation code in the template below."
   ]
  },
  {
   "cell_type": "code",
   "execution_count": null,
   "metadata": {},
   "outputs": [],
   "source": [
    "# =================================\n",
    "# Global variables\n",
    "# =================================\n",
    "ll = 2.0        # time to load/unload the lift\n",
    "bc = 1          # buffer capacity\n",
    "Level = 2       # the number of tiers\n",
    "dl = 0.8        # unit height clearance\n",
    "vmaxl = 5.0     # maximum velocity of lift\n",
    "al = 7.0        # acceleration/deceleration of lift\n",
    "\n",
    "# =================================\n",
    "# Lift definition\n",
    "# =================================\n",
    "@process\n",
    "def Lift(env, c_in, c_lift, c_out):\n",
    "    #.....\n",
    "        \n",
    "        \n",
    "# =================================\n",
    "# Model\n",
    "# =================================\n",
    "def model():\n",
    "    env = Environment()\n",
    "    a = [Channel(env) for Tier in range(Level)] # a channel for each tier, each sending totes\n",
    "    b = Channel(env)  # for sending totes\n",
    "    c = Channel(env)  # for calling the lift\n",
    "    d = Channel(env)  # for sending totes\n",
    "\n",
    "    Gs = [Generator(env, a[Tier], Tier) for Tier in range(Level)] \n",
    "    B = Buffer(env, a, b, c)\n",
    "    L = Lift(env, b, c, d)\n",
    "    E = Exit(env, d)\n",
    "    env.run()\n",
    "    print (\"simulation has ended\")\n",
    "\n",
    "    \n",
    "# =================================\n",
    "# Main\n",
    "# =================================\n",
    "model()"
   ]
  },
  {
   "cell_type": "markdown",
   "metadata": {},
   "source": [
    "e. Confirm that your simulations produce the correct results, i.e., in correspondence with your lot-time-diagram"
   ]
  },
  {
   "cell_type": "markdown",
   "metadata": {},
   "source": [
    "Answer: ...\n",
    "\n"
   ]
  },
  {
   "cell_type": "markdown",
   "metadata": {},
   "source": [
    "## 6.9 Exercise 9: Entire system (10 points)\n",
    "In the previous exercises we developed and tested each process individually. Now it is time to combine all processes into one model."
   ]
  },
  {
   "cell_type": "markdown",
   "metadata": {},
   "source": [
    "a. Determine the (total) arrival rate of orders for a system with `Level` tiers, where for each tier orders arrive with a mean inter arrival time of `arrive`."
   ]
  },
  {
   "cell_type": "markdown",
   "metadata": {},
   "source": [
    "Answer: ...\n",
    "\n"
   ]
  },
  {
   "cell_type": "markdown",
   "metadata": {},
   "source": [
    "b. Complete the simulation code in the template below by substituting the code for the processes as you derived in Exercises 1, 2, 4, 7, and 8. Note that the type tote has been extended in comparison with Exercise 1, so one line of code extra is required in the Generator process to include the tier."
   ]
  },
  {
   "cell_type": "code",
   "execution_count": null,
   "metadata": {},
   "outputs": [],
   "source": [
    "# =================================\n",
    "# Tote\n",
    "# =================================\n",
    "@dataclass\n",
    "class Tote:\n",
    "    entrytime: float = 0.0\n",
    "    column: int = 0\n",
    "    tier: int  = 0\n",
    "        \n",
    "# =================================\n",
    "# Global variables\n",
    "# =================================\n",
    "lv = 3.0                   # time to load/unload the vehicle\n",
    "dv = 0.5                   # unit width clearance\n",
    "vmaxv = 1.5                # maximum velocity of the vehicle\n",
    "av = 1.0                   # acceleration/deceleration of the vehicle\n",
    "ll = 2.0                   # time to load/unload the lift\n",
    "dl = 0.8                   # unit height clearance\n",
    "vmaxl = 5.0                # maximum velocity of lift\n",
    "al = 7.0                   # acceleration/deceleration of lift\n",
    "bc = 1                     # buffer capacity\n",
    "arrive = 70.0              # inter arrival time of requests\n",
    "Level = 9                  # the number of tiers\n",
    "depth  = 55                # the number of columns\n",
    "number_of_orders = 20000  # the number of orders to process\n",
    "\n",
    "# =================================\n",
    "# Generator\n",
    "# =================================\n",
    "@process\n",
    "def Generator(env, c_out, Tier):\n",
    "    #.....\n",
    "    #.....\n",
    "    while True:\n",
    "        x = Tote()\n",
    "        x.entrytime = env.now\n",
    "        x.column = #.....\n",
    "        x.tier = #.....\n",
    "        yield env.execute(c_out.send(x))\n",
    "        delay = #.....\n",
    "        yield env.timeout(delay)\n",
    "        \n",
    "        \n",
    "# =================================\n",
    "# Demand Buffer\n",
    "# =================================\n",
    "@process\n",
    "def Demand_Buffer(env, c_in, c_out):\n",
    "    xs = [] # list of totes\n",
    "    #.....\n",
    "                 \n",
    "# =================================\n",
    "# Vehicle\n",
    "# =================================\n",
    "@process\n",
    "def Vehicle(env, c_in, c_out):\n",
    "    #.....\n",
    "\n",
    "# =================================\n",
    "# Buffer\n",
    "# =================================\n",
    "@process\n",
    "def Buffer(env, c_in, c_out, c_lift):\n",
    "    xs = []\n",
    "    n = [0] * Level\n",
    "    while True:\n",
    "        receiving = [c_in[Tier].receive() if n[Tier] < bc else None for Tier in range(Level) ]\n",
    "        call_lift = c_lift.send(xs[0].tier) if len(xs) > 0 else None\n",
    "        sending = c_out.send(xs[0]) if len(xs) > 0 else None\n",
    "        communications = receiving + [call_lift] + [sending]\n",
    "\n",
    "        yield env.select(*communications)\n",
    "\n",
    "        for Tier in range(Level):\n",
    "            if selected(receiving[Tier]):\n",
    "                x = receiving[Tier].entity\n",
    "                xs = xs + [x]\n",
    "                n[Tier] = n[Tier] + 1\n",
    "\n",
    "        if selected(call_lift):\n",
    "            pass\n",
    "\n",
    "        if selected(sending):\n",
    "            #.....\n",
    "\n",
    "            \n",
    "# =================================\n",
    "# Lift\n",
    "# =================================\n",
    "@process\n",
    "def Lift(env, c_in, c_lift, c_out):\n",
    "    #.....\n",
    "        \n",
    "# =================================\n",
    "# Exit\n",
    "# =================================\n",
    "@process\n",
    "def Exit(env, c_in):\n",
    "    mphi = 0.0\n",
    "    for i in range(1, number_of_orders + 1):\n",
    "        x = yield env.execute(c_in.receive())\n",
    "        mphi = (i - 1) / i * mphi + (env.now - x.entrytime) / i\n",
    "        mthi = i/env.now\n",
    "    return mphi, mthi \n",
    "            \n",
    "        \n",
    "# =================================\n",
    "# GDV\n",
    "# =================================\n",
    "def GDV(env, c_out, Tier):\n",
    "    a = Channel(env)  # for sending totes\n",
    "    b = Channel(env)  # for sending totes\n",
    "    G = Generator(env, a, Tier)\n",
    "    D = Demand_Buffer(env, a,b)\n",
    "    V = Vehicle(env, b, c_out)\n",
    "        \n",
    "\n",
    "# =================================\n",
    "# Model\n",
    "# =================================\n",
    "def model():\n",
    "    env = Environment()\n",
    "    c = [Channel(env) for Tier in range(Level)] # a channel for each tier, each sending totes\n",
    "    d = Channel(env)  # for sending totes\n",
    "    e = Channel(env)  # for calling the lift\n",
    "    f = Channel(env)  # for sending totes\n",
    "    GDVs = [ GDV(env, c[Tier], Tier)  for Tier in range(Level) ] \n",
    "    B = Buffer(env, c, d, e)\n",
    "    L = Lift(env, d, e, f)\n",
    "    E = Exit(env, f)\n",
    "    env.run(until=E)\n",
    "    mph, mth = E.value\n",
    "    print(f\"--- Mean throughput = {mth:8.6f}; Mean flowtime = {mph:6.4f} ---\")\n",
    "    return mph, mth\n",
    "\n",
    "# =================================\n",
    "# Main\n",
    "# =================================\n",
    "mph, mth = model()"
   ]
  },
  {
   "cell_type": "markdown",
   "metadata": {},
   "source": [
    "c. Verify if the throughput in your simulations matches with the start rate you determined. Verify that totes reach the exit from each tier. Also verify that totes are generated from each column."
   ]
  },
  {
   "cell_type": "markdown",
   "metadata": {},
   "source": [
    "Answer: ...\n",
    "\n"
   ]
  },
  {
   "cell_type": "markdown",
   "metadata": {},
   "source": [
    "d. Run your simulation 30 times, and record for each run the resulting average throughput and average flow time.\n",
    "Determine the mean and the standard deviation of both the average throughput and the average flow time for these 30 simulations. Finally, determine a 95% confidence interval for both the average throughput and the average flow time."
   ]
  },
  {
   "cell_type": "markdown",
   "metadata": {},
   "source": [
    "Answer: ...\n",
    "\n"
   ]
  },
  {
   "cell_type": "markdown",
   "metadata": {},
   "source": [
    "## 6.10 Exercise 10: Effect of buffer capacity (10 points)\n",
    "Via computer simulation analyze the impact of the buffer capacity on the throughput and flow time (choose values of `bc` as 1,2,3,200). For each setting, run your simulations 30 times and determine both mean and standard deviation of the resulting average throughput and average flow time for these 30 simulations, as well as 95% confidence intervals."
   ]
  },
  {
   "cell_type": "code",
   "execution_count": null,
   "metadata": {},
   "outputs": [],
   "source": []
  },
  {
   "cell_type": "markdown",
   "metadata": {},
   "source": [
    "Answer: ...\n",
    "\n"
   ]
  },
  {
   "cell_type": "markdown",
   "metadata": {},
   "source": [
    "## 6.11 Exercise 11: Looking for the best layout (30 points)\n",
    "Via computer simulation consider 6 different scenarios (see the table below) that correspond to different layouts of the\n",
    "storage facility with a total capacity of 500 totes with different number of tiers and columns.\n",
    "\n",
    "| Scenario | 1 | 2 | 3 | 4| 5 | 6 |\n",
    "| - | - | - | - | - | - | - |\n",
    "| Level |  2 | 5 | 10 | 20 | 25 | 50 |\n",
    "| Depth | 250 | 100 | 50 | 25 | 20 | 10 |\n",
    "\n",
    "In order to obtain an answer to the questions below: for each scenario, run your simulations 30 times and determine both mean and standard deviation of the resulting average throughput and average flow time for these 30 simulations, as well as 95% confidence intervals."
   ]
  },
  {
   "cell_type": "markdown",
   "metadata": {},
   "source": [
    "a. For each scenario, determine by means of simulation the maximal throughput."
   ]
  },
  {
   "cell_type": "code",
   "execution_count": null,
   "metadata": {},
   "outputs": [],
   "source": []
  },
  {
   "cell_type": "markdown",
   "metadata": {},
   "source": [
    "Answer: ...\n",
    "\n"
   ]
  },
  {
   "cell_type": "markdown",
   "metadata": {},
   "source": [
    "b. Assume a required throughput of 6 totes per minute. Compare the resulting flow time for each feasible scenario."
   ]
  },
  {
   "cell_type": "markdown",
   "metadata": {},
   "source": [
    "Answer: ...\n",
    "\n"
   ]
  },
  {
   "cell_type": "markdown",
   "metadata": {},
   "source": [
    "c. Based on your outcomes, select a layout that seems the best for you. If necessary, introduce other performance indicators and modify the code accordingly. The report on this step should contain an argument to select the best layout."
   ]
  },
  {
   "cell_type": "markdown",
   "metadata": {},
   "source": [
    "Answer: ...\n",
    "\n"
   ]
  },
  {
   "cell_type": "markdown",
   "metadata": {},
   "source": [
    "## References\n",
    "[1] G. Marchet, M. Melanci, S. Perotti and E. Tappia, \"Analytical model to estimate performance of autonomous vehicle storage and retrieval systems for product totes\", International Journal of Production Research, vol. 50(24), 7134-7148, 2012."
   ]
  }
 ],
 "metadata": {
  "kernelspec": {
   "display_name": "Python (pychEnv)",
   "language": "python",
   "name": "pychenv"
  },
  "language_info": {
   "codemirror_mode": {
    "name": "ipython",
    "version": 3
   },
   "file_extension": ".py",
   "mimetype": "text/x-python",
   "name": "python",
   "nbconvert_exporter": "python",
   "pygments_lexer": "ipython3",
   "version": "3.8.5"
  }
 },
 "nbformat": 4,
 "nbformat_minor": 5
}
